{
 "cells": [
  {
   "cell_type": "markdown",
   "metadata": {
    "deletable": true,
    "editable": true
   },
   "source": [
    "# MATH 382 - Fall 2018\n",
    "## Scientific Computing\n",
    "Sang Yoon Lee\n",
    "\n",
    "<hr>\n",
    "# Final Project: PCA and K-means Clustering\n",
    "<hr>\n",
    "\n",
    "## Directions:\n",
    "\n",
    "1. Write your name above.<br><br>\n",
    "\n",
    "1. Follow the directions given in this document.<br><br>\n",
    "\n",
    "1. Write the solutions of the eight problems below (code and text as needed) in this notebook and submit it in canvas.<br><br>\n",
    "\n",
    "1. Don't use pandas, sckit-learn, or any other Python module for machine learning. Any results you obtained with Python modules or functions other than those described in this document will not earn you any credit.<br><br>\n",
    "\n",
    "1. <b>Work on your own: Any indication of shared solutions, plagiarism, or any other dishonest conduct will be investigated thoroughly and, if confirmed, will result in a failing grade in the course and any further action contemplated by University policy. If you are unsure what I mean by this, please ask and/or check the University Catalog. According to CSUN's policy, a grade that is sanctioned due to academic dishonesty cannot be replaced by subsequent course grades.</b><br><br>\n",
    "\n",
    "1. If you need help, you can ask me."
   ]
  },
  {
   "cell_type": "markdown",
   "metadata": {
    "deletable": true,
    "editable": true
   },
   "source": [
    "<hr>\n",
    "\n",
    "## Preliminaries\n",
    "\n",
    "Start by:\n",
    "1. Creating a directory in your computer (or lab account) where you will save this notebook and the data files needed for the project:<br><br>\n",
    "\n",
    "    1. Create a directory/folder named math382_final in a location you can easily remember and access (<em>e.g.</em>, your desktop, a folder previously created for the course, the documents folder in your user account, etc. <b>Do not create it in your Downloads folder!!!</b>)<br><br>\n",
    "\n",
    "        1. Download this notebook and place/save it to the directory math382_final<br><br>\n",
    "\n",
    "    1. Create a subdirectory inside math382_final named data.<br><br>\n",
    "    \n",
    "    1. Create another subdirectory inside math382_final named frames.<br><br>\n",
    "        \n",
    "2. Download the data for the project:<br><br>\n",
    "\n",
    "    1. Go to <a>http://archive.ics.uci.edu/ml/datasets/seeds</a>, read the desription of the data, and click on <a href = \"http://archive.ics.uci.edu/ml/machine-learning-databases/00236/\">Data Folder</a><br><br>\n",
    "    \n",
    "    2. Download the file named \"seeds_dataset.txt\" and place/save it in the data subdirectory inside the directory math382_final<br><br>\n",
    "    \n",
    "3. Import the Python modules needed for the project (run the code cell below):"
   ]
  },
  {
   "cell_type": "code",
   "execution_count": 1,
   "metadata": {
    "collapsed": false,
    "deletable": true,
    "editable": true,
    "scrolled": true
   },
   "outputs": [],
   "source": [
    "# Import libraries\n",
    "\n",
    "# math library\n",
    "import numpy as np\n",
    "\n",
    "# pseudo random generator\n",
    "\n",
    "import random as rnd\n",
    "\n",
    "# visualization library\n",
    "%matplotlib inline\n",
    "from IPython.display import set_matplotlib_formats\n",
    "set_matplotlib_formats('png2x','pdf')\n",
    "import matplotlib.pyplot as plt\n",
    "\n",
    "# computational time\n",
    "import time"
   ]
  },
  {
   "cell_type": "markdown",
   "metadata": {
    "deletable": true,
    "editable": true
   },
   "source": [
    "# Part I: Principal Component Analysis (PCA)\n",
    "\n",
    "<hr>\n",
    "\n",
    "### References:\n",
    "\n",
    "Here are two references on PCA, its applications, and algorithm:<br>\n",
    "\n",
    "1. https://www.dezyre.com/data-science-in-python-tutorial/principal-component-analysis-tutorial <br><br>\n",
    "\n",
    "1. https://sebastianraschka.com/Articles/2014_pca_step_by_step.html#introduction\n",
    "\n",
    "    This page has very good information and examples, but probably more than you need. You shouldn't try to use the code presented here; it is good, but uses tools we haven't seen in class and will likely confuse you. You should use as a reference, not as a code resource.\n",
    "\n",
    "<hr>\n",
    "\n",
    "### How to Calculate the Principal Components of the data (see Problem 1B for further details)\n",
    "\n",
    "There are several ways to find the principal components of a data matrix, here is a brief description of one possible way:\n",
    "\n",
    "1. After you download the data for the project, you will store it into a matrix $X$ with each row ${\\bf x}_{i}$ in $X$ representing a data sample with $d$ attributes\n",
    "\n",
    "    $$ X = \\begin{pmatrix} \\overline{ \\ \\ \\ } \\!\\!\\!\\! & {\\bf x}_{1} & \\!\\!\\!\\!\\!\\!\\!\\! \\overline{ \\ \\ \\ } \\\\ \\overline{ \\ \\ \\ } \\!\\!\\!\\! & {\\bf x}_{2} & \\!\\!\\!\\!\\!\\!\\!\\! \\overline{ \\ \\ \\ } \\\\ \\ \\ \\ & \\cdots & \\ \\ \\ \\\\ \\overline{ \\ \\ \\ } \\!\\!\\!\\! & {\\bf x}_{n} & \\!\\!\\!\\!\\!\\!\\!\\! \\overline{ \\ \\ \\ } \\end{pmatrix} $$<br>\n",
    "\n",
    "1. Normalize the data so its columns have zero mean and unit standard deviation.<br>\n",
    "\n",
    "    $$ {\\bf z}_j \\leftarrow \\frac{{\\bf x}_j - \\frac{1}{n}\\sum_{i = 1}^n x_{ij}}{\\sigma({\\bf x}_j)}, \\ \\ \\ j = 1, \\dots, d$$. <br>\n",
    "\n",
    "1. Find the covariance matrix of the data: $\\Sigma = \\dfrac{Z^TZ}{n-1}$.<br><br>\n",
    "\n",
    "1. Find the eigen decomposition of $\\Sigma$ and sort them in decreasing order.<br><br>\n",
    "\n",
    "1. The first p principal components of the data are the first p eigen vectors of the data matrix.<br>"
   ]
  },
  {
   "cell_type": "markdown",
   "metadata": {
    "deletable": true,
    "editable": true
   },
   "source": [
    "<hr>\n",
    "\n",
    "## Problem 1A - 10 Points\n",
    "\n",
    "<hr>\n",
    "\n",
    "Load the data file into a numpy array named <tt>data</tt>, find its dimensions, and store the first seven columns into a numpy array named $X$. (The data in this file is not separated by commas).\n",
    "\n",
    "<hr>"
   ]
  },
  {
   "cell_type": "code",
   "execution_count": 3,
   "metadata": {
    "collapsed": false,
    "deletable": true,
    "editable": true
   },
   "outputs": [
    {
     "name": "stdout",
     "output_type": "stream",
     "text": [
      "(210L, 8L)\n",
      "(210L, 7L)\n"
     ]
    }
   ],
   "source": [
    "#Enter your code here\n",
    "data = np.loadtxt('data/seeds_dataset.txt')\n",
    "n, d1 = data.shape\n",
    "d = d1 - 1\n",
    "\n",
    "X = data[:,0:d]\n",
    "\n",
    "print data.shape\n",
    "print X.shape"
   ]
  },
  {
   "cell_type": "markdown",
   "metadata": {
    "deletable": true,
    "editable": true
   },
   "source": [
    "<hr>\n",
    "\n",
    "## Probem 1B - 40 Points\n",
    "\n",
    "<hr>\n",
    "\n",
    "Write a function named <tt>myPCs(X,p)</tt> that takes as input a (data) numpy array $X$ (with each row representing a data sample) of size $m \\times d$ and the number of principal components $p < d$ desired, and retruns as output a numpy array $Z$ with the normalized values of $X$, and a numpy array $U_p$ with those principal components as column vectors.<br>\n",
    "\n",
    "The Function should perform the following tasks (preferably in this order), ${\\bf x}_i$ denotes a row vector and ${\\bf x}_j$ and ${\\bf z}_j$ denote column vectors:<br>\n",
    "\n",
    "1. Normalize the entries of the matrix. That is: subtract from each row ${\\bf x}_i = (x_{i1}, x_{i2}, \\dots, x_{id})$ of $X$ a one dimensional numpy array holding the mean of each column and divide each column by its standard deviation\n",
    "\n",
    "    $$ {\\bf z}_j \\leftarrow \\frac{{\\bf x}_j - \\frac{1}{n}\\sum_{i = 1}^n x_{ij}}{\\sigma({\\bf x}_j)}, \\ \\ \\ \\ \\ \\ j = 1, \\dots, d.$$\n",
    "\n",
    "    Verify that the rows of $Z$ have mean $0$ and standard deviation $1$ by printing <tt>Z.mean(axis = 0)</tt>and <tt>Z.std(axis = 0)</tt>. The first should return an array of zeros (or very small numbers) of length $d$, and the second an array of ones of length $d$. <br><br>\n",
    "\n",
    "1. Calculate the covariance matrix of $X$, $cov(X) = \\Sigma = \\dfrac{Z^T Z}{n-1}$. <br><br>\n",
    "\n",
    "1. Find the eigen decomposition of the covariance matrix $\\Sigma = U D U^T$ and <b>sort</b> its eigen values and corresponding eigen vectors in decreasing order (see the partial code provided below). <br><br>\n",
    "\n",
    "1. The first $p$ columns of the matrix $U$ (first $p$ eigen vectors of $\\Sigma$) are the principal components.<br><br>\n",
    "\n",
    "Use your function to obtain the normalized data $Z$, and $U_p$ for $p = 2$.\n",
    "\n",
    "<hr>"
   ]
  },
  {
   "cell_type": "code",
   "execution_count": 4,
   "metadata": {
    "collapsed": false,
    "deletable": true,
    "editable": true
   },
   "outputs": [
    {
     "name": "stdout",
     "output_type": "stream",
     "text": [
      "(210L, 7L)\n",
      "mean after= [ -1.89530931e-15  -2.58576229e-15   1.32585741e-15  -4.00737644e-15\n",
      "  -2.64867493e-16   5.95291012e-16  -1.46972381e-16]\n",
      "std after= [ 1.  1.  1.  1.  1.  1.  1.]\n"
     ]
    },
    {
     "data": {
      "application/pdf": "[encoded data removed]",
      "image/png": "[encoded data removed]",
      "text/plain": [
       "<matplotlib.figure.Figure at 0x6fce8d0>"
      ]
     },
     "metadata": {
      "image/png": {
       "height": 386,
       "width": 386
      }
     },
     "output_type": "display_data"
    }
   ],
   "source": [
    "#Enter your code here\n",
    "\n",
    "def myPCs(X,p):\n",
    "    M = X.mean(axis = 0)*np.ones((1,d))\n",
    "    h = np.ones((n,1))\n",
    "    Z = (X - h.dot(M))/np.std(X,axis = 0)\n",
    "    \n",
    "    # Calculate Sigma\n",
    "    Sigma = Z.T.dot(Z)/(n-1)\n",
    "    # Calculate eigen decomposition of Sigma\n",
    "    evals, U = np.linalg.eig(Sigma)\n",
    "    # lines for sorting eigen values and eigen vectors -- don't change\n",
    "    idx = evals.argsort()[::-1] # decreasing order\n",
    "    columns = idx.shape[0]\n",
    "    evals = evals[idx[0:columns]]\n",
    "    total_sum = np.sum(evals) #trace\n",
    "   \n",
    "    U = U[0:columns,idx[0:columns]]\n",
    "    Up = U[:, 0:2]\n",
    "    \n",
    "    return Z, Up\n",
    "\n",
    "p = 2\n",
    "Z, Up = myPCs(X,p)\n",
    "\n",
    "\n",
    "print Z.shape\n",
    "print'mean after=', np.mean(Z,axis=0)\n",
    "print'std after=', np.std(Z,axis=0)\n",
    "    \n",
    "ZT = Z.T\n",
    "plt.figure(3,figsize=(6,6))\n",
    "plt.scatter(ZT[0,:], ZT[5,:], s=60, c='k', marker='+') \n",
    "plt.xlabel('Normalized Area')\n",
    "plt.ylabel('Normalized Asymmetry Coefficient')\n",
    "plt.title('Asymmetry Coefficient vs. Area by Z-scoring')\n",
    "plt.show()\n"
   ]
  },
  {
   "cell_type": "markdown",
   "metadata": {
    "deletable": true,
    "editable": true
   },
   "source": [
    "<hr>\n",
    "\n",
    "## Problem 1C - 20 Points\n",
    "\n",
    "<hr>\n",
    "\n",
    "Find the projection of the normalized data $Z$ onto the first <b>two</b> principal components of $X$, $Z_p = ZU_p$. What are the dimensions of $Z_p$?\n",
    "\n",
    "<hr>"
   ]
  },
  {
   "cell_type": "code",
   "execution_count": 5,
   "metadata": {
    "collapsed": false,
    "deletable": true,
    "editable": true
   },
   "outputs": [
    {
     "name": "stdout",
     "output_type": "stream",
     "text": [
      "Dimensions of Z_p = (210L, 2L) \n",
      "\n",
      "Zp[0:4, :] = [[ 0.31704705 -0.78366902]\n",
      " [-0.00338618 -1.91321367]\n",
      " [-0.45944334 -1.90722525]\n",
      " [-0.59193565 -1.93106922]\n",
      " [ 1.10291005 -2.06809003]] \n",
      "\n"
     ]
    }
   ],
   "source": [
    "# Enter your code here\n",
    "\n",
    "Zp = (Z).dot(Up)\n",
    "\n",
    "print 'Dimensions of Z_p =', Zp.shape, '\\n'\n",
    "print 'Zp[0:4, :] =', Zp[:5,:], '\\n'"
   ]
  },
  {
   "cell_type": "markdown",
   "metadata": {
    "deletable": true,
    "editable": true
   },
   "source": [
    "<hr>\n",
    "\n",
    "## Problem 1D - 30 Points\n",
    "\n",
    "<hr>\n",
    "\n",
    "Explain in your own words:<br>\n",
    "\n",
    "1. What is the purpose of finding the Principal Components of the data $X$ and projecting the data onto them?<br>\n",
    "\n",
    "A) This is potentially valuable for application in which most of the variation, or many range, in the data is due to variation in only a few of the new variables. It decreases size of data for storage without losing many data. Roughlt speaking, the goal is to find a special linear combination of the data which is an effective way to suppress information and provide only a few composite data which contains most of the information from initial data.\n",
    "\n",
    "1. Why are the Principal Components relevant and the projection of the data into the reduced subspace still provides a good description of the data?<br>\n",
    "\n",
    "A) The eigenvector of the covariance matrix are called principal components The first principal component is the lagest and the second is the next and so on. When they hold the data, the first and second componenet hold almost whole information of the data. And first and second principal component determines the new variable and this value is much larger than the others, this fact will permit us to view the data as essentially less demention rather than multi-demention. and least square(norm) give us the minimuzed error which means optimized data.\n",
    "\n",
    "<hr>"
   ]
  },
  {
   "cell_type": "markdown",
   "metadata": {
    "collapsed": false,
    "deletable": true,
    "editable": true
   },
   "source": [
    "# Part II. K-means Clustering\n",
    "\n",
    "<hr>\n",
    "\n",
    "### References:\n",
    "\n",
    "Read about $K$-means clustering and the algorithm to cluster data here:<br>\n",
    "\n",
    "https://www.datascience.com/blog/k-means-clustering <br>\n",
    "\n",
    "### Algorithm:\n",
    "\n",
    "1. Randomly select $K$ data points from the data set as the centroids of the clusters (the centroids don't need to be data points from the data set, but their coordinates should be within those of the data). <br><br>\n",
    "\n",
    "2. Assign each data point in the set, to the cluster whose centroid is closest to it.<br><br>\n",
    "\n",
    "3. After every data point has been assigned to a cluster, update the coordinates of the centroid of each cluster as the mean of the coordinates of the data points in the cluster.<br><br>\n",
    "\n",
    "4. Repeat 2. and 3. above until the centroids are stabilized.\n"
   ]
  },
  {
   "cell_type": "markdown",
   "metadata": {
    "deletable": true,
    "editable": true
   },
   "source": [
    "<hr>\n",
    "\n",
    "## Problem 2A - 30 Points\n",
    "\n",
    "<hr>\n",
    "\n",
    "Write a function named <tt>centroid_init(Z,K)</tt> that takes as input a data numpy array $Z$ and the number $K$ of clusters to group the data into, and returns as output a numpy array $C$ with the initial coordinates of the $K$ centroids of the clusters and one dimensional array <tt>c_indx</tt> with the indeces (<em>i.e.</em>, row indeces of $Z$) randomly selected as the initial cluster centroids. <br>\n",
    "\n",
    "When selecting the row indeces of the data array that will serve as initial centroids, make sure the random indeces are unique. One possibility is to break the number of data samples, $n$, into $K$ subsets (of size $n/K$) and pick one index from each subset. <br>\n",
    "\n",
    "You may want to use the function <tt>randint()</tt> of the Python random module (loaded above as <tt>rnd</tt>). The Python command<br>\n",
    "\n",
    "Use the funtion to initialize $3$ centroids from the projected data in array $Z_p$ from Problem 1C.\n",
    "\n",
    "<hr>"
   ]
  },
  {
   "cell_type": "code",
   "execution_count": 6,
   "metadata": {
    "collapsed": false,
    "deletable": true,
    "editable": true
   },
   "outputs": [
    {
     "name": "stdout",
     "output_type": "stream",
     "text": [
      "Coordinates of initial centroids of clusters: \n",
      "\n",
      "C = [[ 1.85493815 -1.0888628 ]\n",
      " [ 3.41972134  1.57821846]\n",
      " [-1.59065129 -0.42255533]] \n",
      "\n",
      "Randomly selected data points as initial centroids: \n",
      "\n",
      "c0_index = [ 37  87 195] \n",
      "\n"
     ]
    }
   ],
   "source": [
    "# Enter your code here\n",
    "\n",
    "def centroid_init(Z,K):\n",
    "\n",
    "    n, p = Z.shape\n",
    "   \n",
    "    c_index = np.zeros(K, 'int')\n",
    "    \n",
    "    a = 0\n",
    "    b = n/K-1\n",
    "   \n",
    "    for k in range(0,K):\n",
    "        c_index[k] = rnd.randint(a,b)\n",
    "        a += n/K \n",
    "        b += n/K\n",
    "        \n",
    "    C = np.zeros((K,p), 'double')\n",
    "    C = Z[c_index,:]\n",
    "    \n",
    "    return C, c_index\n",
    "\n",
    "K = 3\n",
    "C, c0_index = centroid_init(Zp,K)\n",
    "\n",
    "print 'Coordinates of initial centroids of clusters:', '\\n'\n",
    "print 'C =', C, '\\n'\n",
    "print 'Randomly selected data points as initial centroids:', '\\n'\n",
    "print 'c0_index =', c0_index, '\\n'"
   ]
  },
  {
   "cell_type": "markdown",
   "metadata": {
    "deletable": true,
    "editable": true
   },
   "source": [
    "<hr>\n",
    "\n",
    "## Problem 2B - 30 Points\n",
    "\n",
    "<hr>\n",
    "\n",
    "Write a function named <tt>cluster_membership(Z,C)</tt> that takes as input two numpy arrays, a data array $Z$, and an array holding the centroid coordinates $C$, and returns as output a two dimensional numpy array of type interger, <tt>member_iter</tt>, and size $n \\times 1$ with each row indicating the cluster number ($k = 1, 2, \\dots, K$) the data sample ${\\bf z}_i$, $i = 0, 1, \\dots, n-1$, belongs to. Your function should:<br>\n",
    "\n",
    "1. Find the number $K$ of centroids from the size of $C$.<br><br>\n",
    "\n",
    "1. Find the dimensions, $n \\times p$, of the data array $Z$.<br><br>\n",
    "\n",
    "1. Create a one dimensional array $D$ of size $K$ to hold the $L_2$ distances of each data sample ${\\bf z}_i$, $i = 0, 1, \\dots, n-1$, from each centroid.<br><br>\n",
    "\n",
    "1. Create the two dimensional array <tt>member_iter</tt> decribed above.<br><br>\n",
    "\n",
    "1. For each data sample ${\\bf z}_i$, $i = 0, 1, \\dots, n-1$:<br><br>\n",
    "\n",
    "    1. Find the distance of the sample point to each of the centroids and store them into D.<br><br>\n",
    "    \n",
    "    2. Use the numpy function <tt>argmin()</tt> to select the index corresponding to the minimum of those $K$ distances and store that index into <tt>member_iter[i,0]</tt>. <br><br>\n",
    "\n",
    "1. Return the integer array <tt>member_iter</tt>.<br><br>\n",
    "\n",
    "In order to verify your code, you can run the normalized, projected data stored in $Z_p$ with the centroids calculated in Problem 2A and check that the entries of the array <tt>member_iter</tt> are between $1$ and $3$. \n",
    "    \n",
    "<hr>"
   ]
  },
  {
   "cell_type": "code",
   "execution_count": 7,
   "metadata": {
    "collapsed": false,
    "deletable": true,
    "editable": true
   },
   "outputs": [
    {
     "name": "stdout",
     "output_type": "stream",
     "text": [
      "member_iter[:10,0] = [1 1 3 3 1 3 3 3 1 1] \n",
      "\n",
      "member_iter[-15:,0] = [3 3 3 3 3 3 3 3 3 3 3 3 3 3 3] \n",
      "\n"
     ]
    }
   ],
   "source": [
    "# Enter your code here\n",
    "\n",
    "def cluster_membership(Z,C):\n",
    "\n",
    "    K = C.shape[0]\n",
    "    n, p = X.shape\n",
    "    D = np.zeros(K, 'double')\n",
    "    member_iter = np.ones((n,1), 'int')\n",
    "\n",
    "    for i in range(0,n):\n",
    "        for k in range(0,K):\n",
    "            D[k] = np.linalg.norm(C[k,:] - Z[i,:])\n",
    "            member_iter[i,0] = D.argmin() + 1\n",
    "    return member_iter\n",
    "\n",
    "member_iter = cluster_membership(Zp,C)\n",
    "\n",
    "print 'member_iter[:10,0] =', member_iter[:10,0], '\\n'\n",
    "print 'member_iter[-15:,0] =', member_iter[-15:,0], '\\n'"
   ]
  },
  {
   "cell_type": "markdown",
   "metadata": {
    "deletable": true,
    "editable": true
   },
   "source": [
    "<hr>\n",
    "\n",
    "## Problem 2C - 30 Points\n",
    "\n",
    "<hr>\n",
    "\n",
    "Write a function named <tt>centrod_update(Z,member_iter,K)</tt> that takes as input two two-dimensional numpy arrays, a data array $Z$, and the current cluster membership array <tt>member_iter</tt>, along with the number of klusters $K$; and returns a two dimensinal numpy array $C$ of dimensions $K \\times p$ with the updated coordinates of the centroids for each cluster $k = 1, 2, \\dots, K$ (the average of the coordinates of the sample points belonging to cluster $k$).<br><br>\n",
    "\n",
    "Your function should:<br>\n",
    "\n",
    "1. Find the number $p$ of attributes of the projected data $Z_p$.<br><br>\n",
    "\n",
    "2. Create the two dimensional array $C$ of dimensions $K \\times p$ where the updated centroid coordinates will be stored.<br><br>\n",
    "\n",
    "3. For each cluster $k = 1, \\dots, K$:<br><br>\n",
    "\n",
    "    1. Find the indeces of the data samples that belong to the cluster (<em>i.e.</em>, <tt>cluster_index = (member_iter == k+1)</tt>).<br><br>\n",
    "    \n",
    "    2. Find the average of each coordinate of the data points belonging to the cluster.<br><br>\n",
    "    \n",
    "4. Return the update array $C$.<br>\n",
    "\n",
    "Test the function by calling it with $Z_p$, $K =3$, and the array <tt>member_item</tt>, returned by <tt>cluster_membership</tt> in Problem 2B.\n",
    "\n",
    "<hr>"
   ]
  },
  {
   "cell_type": "code",
   "execution_count": 8,
   "metadata": {
    "collapsed": false,
    "deletable": true,
    "editable": true
   },
   "outputs": [
    {
     "name": "stdout",
     "output_type": "stream",
     "text": [
      "C = [[ 1.54387554 -0.56402751]\n",
      " [ 3.14374304  0.86556285]\n",
      " [-1.71891114 -0.0206263 ]] \n",
      "\n"
     ]
    }
   ],
   "source": [
    "# Enter your code here\n",
    "\n",
    "def centroid_update(Z,member_iter,K):\n",
    "\n",
    "    n, p = Z.shape\n",
    "   \n",
    "    C = np.zeros((K,p), 'double')\n",
    "\n",
    "    for k in range(0,K):\n",
    "        cluster_index = (member_iter == k + 1)\n",
    "        C[k,:] = Z[cluster_index[:,0],:].mean(axis = 0)\n",
    "\n",
    "    return C\n",
    "\n",
    "C = centroid_update(Zp,member_iter, 3)\n",
    "print 'C =', C, '\\n'"
   ]
  },
  {
   "cell_type": "markdown",
   "metadata": {
    "deletable": true,
    "editable": true
   },
   "source": [
    "<hr>\n",
    "\n",
    "## Problem 2D - 20 points\n",
    "\n",
    "<hr>\n",
    "\n",
    "Explain in your own words (and with proper math typesetting):<br><br>\n",
    "\n",
    "1. What is the objective function minimized by the $K$-means algorithm?<br><br>\n",
    "A) The objective function is a distance function which is refer to Norm as the square error of all the cluster<br><br>\n",
    "\n",
    "1. Explain how it is possible that the objective function is minimized by the algorithm as described here without using any explicit optimization algorithm such as gradient descent?<br><br>\n",
    "A) The goal of k-means is to find a way of dividing the original dataset into K-cluster susch that the objectve function minimized. But we can observe two things. First, when cluster center is fixed, we can easily identify the correspond matrix such that objective function minimized. Second, when membership matrix is fixed, we can easily find the optimizing centers such that the objective function minimized.  Since our Norm is the square error, the minimizing center of the each cluster is the mean vector of the all data points in the cluster. It gives the best center of the cluster after each iteration of the objective function assign more nearest center until the objective function does not improve much.<br> "
   ]
  },
  {
   "cell_type": "markdown",
   "metadata": {
    "deletable": true,
    "editable": true
   },
   "source": [
    "<hr>\n",
    "\n",
    "## Problem 3 - 90 Points\n",
    "\n",
    "<hr>\n",
    "\n",
    "You have now defined all the functions you need for grouping normalized data into $K$ different clusters based on its principal components. You should also have the data from the file \"seeds_dataset.txt\" normalized ($Z$) and projected onto its two first principal components ($Z_p$). Follow the directions below to write and run code to grop the seeds dataset into $K = 3$ clusters and plot those clusters:<br><br>\n",
    "\n",
    "1. Set the maximum number of iterations for the $K$-means algorithm to 100, <tt>max_iter = 100</tt>.<br><br>\n",
    "\n",
    "1. Create a two dimensional numpy array of ones named membership with dimensions $n \\times \\text{max_iter}$.<br><br>\n",
    "\n",
    "1. Create a two dimensional array of type <tt>bool</tt> and dimensions $n \\times K$ to keep track of the membership of each data point for plotting purposes: <tt>cluster_index = np.ones((n,K), 'bool')</tt>.<br><br>\n",
    "\n",
    "1. Set the number of clusters to $K = 3$.<br><br>\n",
    "\n",
    "1. Initialize the centroids by calling the function <tt>centroid_init(Z,K)</tt>: C, c0_indx = centroid_init(Zp,K)</tt> <br><br>\n",
    "\n",
    "1. Initialize two integer variables: a counter for the number of iterations to perform $K$-means clustering, <tt>j = 1</tt>, and a second counter to keep track of membership changes at each iterations, <tt>member_change = 1.</tt> <br><br>\n",
    "\n",
    "1. Write a while loop to run the two main steps of the $K$ means algorithm, <tt>cluster_membership(Z,C)</tt> and <tt>centroid_update(Zp,K,member_iter)</tt>, until either the maximum number of iterations <tt>max_iter = 100</tt> is reached, or there are no more membership changes <tt>member_change = 0</tt>. Inside this loop, the code should:<br><br>\n",
    "\n",
    "    1. Reset the counter <tt>member_change</tt> counter to $0$.<br><br>\n",
    "    \n",
    "    1. Update the <tt>member_iter</tt> array by calling <tt>cluster_membership(Zp,C)</tt>.<br><br>\n",
    "    \n",
    "    1. Updete the array $C$ with the centroids of the clusters by calling <tt>centroid_update(Zp, member_iter, K)</tt>.<br><br>\n",
    "    1. Record the new membership indeces: <tt>membership[:,j] = member_iter[:,0]</tt>.<br><br>\n",
    "    \n",
    "    1. Find the number of membership changes in the iteration by comparing the entries in columns $j$ and $j+1$ of the <tt>membership</tt> array.<br><br>\n",
    "    \n",
    "    1. Assign the first coordinate/attribute of the normalized data, <tt>Zp[:,0]</tt>, to a one dimensional array <tt>z1</tt>, and the second, <tt>Zp[:,1]</tt>, to a one dimensional array <tt>z2</tt>. <br><br>\n",
    "    \n",
    "    1. Create a pyplot figure, <tt>plt.figure(1)</tt>, and clear it,  <tt>plt.clf()</tt>.<br><br>\n",
    "    \n",
    "    1. For each cluster $k = 1, \\dots, K$, flag its corresponding coulumn in the array <tt>cluster_index</tt> by using<br><br>\n",
    "    <tt>cluster_index[:,k] = (membership[:,j] == k + 1)</tt>.<br><br>\n",
    "    \n",
    "    1. Use the flags in <tt>cluster_index[:,k]</tt>, to plot (with <tt>plt.scatter</tt>) the (coordinates of the) points in cluster $k = 1, \\dots, K$.<br><br>\n",
    "    \n",
    "    1. Plot the coordinates of the centroids in the same plot:<br>\n",
    "    \n",
    "    <tt>plt.scatter(C[:,0], C[:,1], c = 'k', marker = '*', linewidths=3)</tt><br><br>\n",
    "    \n",
    "    1. Create a file name for the figure to be saved and save it:<br>\n",
    "    \n",
    "    <tt>outfile = \"frames/clusters_%0.3d.png\" % j</tt><br>\n",
    "    <tt>plt.savefig(outfile)</tt><br><br>\n",
    "    \n",
    "    1. Update the $K$-means iteration counter: <tt>j += 1</tt>.<br>\n",
    "    \n",
    "Run the code to cluster the data in $Z_p$ into $K = 3$ clusters. You should get a few plots saved as png files in the folder frames you created inside the <tt>math382_final</tt>.\n",
    "    \n",
    "<hr>"
   ]
  },
  {
   "cell_type": "code",
   "execution_count": 15,
   "metadata": {
    "collapsed": false,
    "deletable": true,
    "editable": true
   },
   "outputs": [
    {
     "name": "stdout",
     "output_type": "stream",
     "text": [
      "Final centroids: \n",
      "\n",
      "C = [[-0.51330929 -1.06366716]\n",
      " [ 2.67628059  0.39336496]\n",
      " [-2.3880096   0.7588527 ]] \n",
      "\n"
     ]
    },
    {
     "data": {
      "application/pdf": "[encoded data removed]",
      "image/png": "[encoded data removed]",
      "text/plain": [
       "<matplotlib.figure.Figure at 0x7c69ac8>"
      ]
     },
     "metadata": {
      "image/png": {
       "height": 250,
       "width": 372
      }
     },
     "output_type": "display_data"
    }
   ],
   "source": [
    "# Enter your code here\n",
    "max_iter = 100\n",
    "membership = np.ones((n,max_iter), 'int')\n",
    "membership0 = data[:,d][:,None]\n",
    "membership[:,0] = membership0[:,0]\n",
    "\n",
    "K = 3\n",
    "cluster_index = np.ones((n,K), 'bool')\n",
    "C, c0_index = centroid_init(Zp,K) \n",
    "\n",
    "j = 1\n",
    "member_change = 1\n",
    "\n",
    "Y = Up.T.dot(Z.T)\n",
    "YT = Y.T\n",
    "\n",
    "while j < max_iter and member_change > 0:\n",
    "\n",
    "    member_change = 0\n",
    "\n",
    "    member_iter = cluster_membership(Zp,C)\n",
    "    C = centroid_update(Zp, member_iter, K)\n",
    "    membership[:,j] = member_iter[:,0]\n",
    "\n",
    "    for m in range(0,n):\n",
    "          if membership[m,j] != membership[m,j-1]:\n",
    "                member_change += 1\n",
    "\n",
    "   \n",
    "    Y = Up.T.dot(Z.T)\n",
    "   \n",
    "\n",
    "    z1 = Y[0,:]\n",
    "    z2 = Y[1,:]\n",
    "    \n",
    "    \n",
    "    \n",
    "    for k in range(0, K):\n",
    "        cluster_index[:,k] = (member_iter[:,0] == k + 1)\n",
    "    \n",
    "    plt.figure(1)\n",
    "    plt.clf()\n",
    "\n",
    "    for k in range(0,K):\n",
    "        \n",
    "        \n",
    "        plt.scatter(z1[cluster_index[:,k]],z2[cluster_index[:,k]], linewidths=2)\n",
    "        plt.scatter(C[:,0], C[:,1], c = 'k', marker = '*', linewidths=3)\n",
    "        outfile = \"frames/clusters_%0.3d.png\" % j\n",
    "        plt.savefig(outfile)\n",
    "        \n",
    "        j += 1\n",
    "        \n",
    "print 'Final centroids:', '\\n'\n",
    "print 'C =', C, '\\n'\n"
   ]
  },
  {
   "cell_type": "code",
   "execution_count": null,
   "metadata": {
    "collapsed": true,
    "deletable": true,
    "editable": true
   },
   "outputs": [],
   "source": []
  }
 ],
 "metadata": {
  "kernelspec": {
   "display_name": "Python 2",
   "language": "python",
   "name": "python2"
  },
  "language_info": {
   "codemirror_mode": {
    "name": "ipython",
    "version": 2
   },
   "file_extension": ".py",
   "mimetype": "text/x-python",
   "name": "python",
   "nbconvert_exporter": "python",
   "pygments_lexer": "ipython2",
   "version": "2.7.13"
  }
 },
 "nbformat": 4,
 "nbformat_minor": 1
}
