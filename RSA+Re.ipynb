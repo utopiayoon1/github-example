{
 "cells": [
  {
   "cell_type": "code",
   "execution_count": 1,
   "metadata": {
    "collapsed": true
   },
   "outputs": [],
   "source": [
    "import random"
   ]
  },
  {
   "cell_type": "code",
   "execution_count": 3,
   "metadata": {
    "collapsed": false
   },
   "outputs": [],
   "source": [
    "#Euclid's algorithm for determining the greatest common divisor\n",
    "#Use iteration to make it faster for larger integers\n",
    "def gcd(a, b):\n",
    "    while b != 0:\n",
    "\n",
    "        a, b = b, a % b\n",
    "\n",
    "    return a"
   ]
  },
  {
   "cell_type": "code",
   "execution_count": 5,
   "metadata": {
    "collapsed": false
   },
   "outputs": [],
   "source": [
    "# Euclid's extended algorithm for finding the multiplicative inverse of two numbers\n",
    "\n",
    "def multiplicative_inverse(e, phi):\n",
    "    d = 0\n",
    "    x1 = 0\n",
    "    x2 = 1\n",
    "    y1 = 1\n",
    "    temp_phi = phi\n",
    "\n",
    "    while e > 0:\n",
    "\n",
    "        temp1 = temp_phi/e\n",
    "        temp2 = temp_phi - temp1 * e\n",
    "        temp_phi = e\n",
    "        e = temp2\n",
    "\n",
    "        x = x2- temp1* x1\n",
    "        y = d - temp1 * y1\n",
    "\n",
    "        x2 = x1\n",
    "        x1 = x\n",
    "        d = y1\n",
    "        y1 = y\n",
    "\n",
    "    if temp_phi == 1:\n",
    "\n",
    "        return d + phi"
   ]
  },
  {
   "cell_type": "code",
   "execution_count": 6,
   "metadata": {
    "collapsed": true
   },
   "outputs": [],
   "source": [
    "# Test for prime\n",
    "\n",
    "def is_prime(num):\n",
    "    if num == 2:\n",
    "\n",
    "        return True\n",
    "\n",
    "    if num < 2 or num % 2 == 0:\n",
    "\n",
    "        return False\n",
    "\n",
    "    for n in xrange(3, int(num**0.5)+2, 2):\n",
    "\n",
    "        if num % n == 0:\n",
    "\n",
    "            return False\n",
    "\n",
    "    return True"
   ]
  },
  {
   "cell_type": "code",
   "execution_count": 7,
   "metadata": {
    "collapsed": true
   },
   "outputs": [],
   "source": [
    "def generate_keypair(p, q):\n",
    "    if not (is_prime(p) and is_prime(q)):\n",
    "\n",
    "        raise ValueError('Both numbers must be prime.')\n",
    "\n",
    "    elif p == q:\n",
    "\n",
    "        raise ValueError('p and q cannot be equal')\n",
    "\n",
    "    #n = pq\n",
    "\n",
    "    n = p * q\n",
    "\n",
    "    #Phi is the totient of n\n",
    "\n",
    "    phi = (p-1) * (q-1)\n",
    "\n",
    "    #Choose an integer e such that e and phi(n) are coprime\n",
    "\n",
    "    e = random.randrange(1, phi)\n",
    "\n",
    "    #Use Euclid's Algorithm to verify that e and phi(n) are comprime\n",
    "\n",
    "    g = gcd(e, phi)\n",
    "\n",
    "    while g != 1:\n",
    "\n",
    "        e = random.randrange(1, phi)\n",
    "\n",
    "        g = gcd(e, phi)\n",
    "\n",
    "    #Use Extended Euclid's Algorithm to generate the private key\n",
    "\n",
    "    d = multiplicative_inverse(e, phi)\n",
    "\n",
    "    #Return public and private keypair\n",
    "\n",
    "    #Public key is (e, n) and private key is (d, n)\n",
    "\n",
    "    return ((e, n), (d, n))"
   ]
  },
  {
   "cell_type": "code",
   "execution_count": 8,
   "metadata": {
    "collapsed": true
   },
   "outputs": [],
   "source": [
    "def encrypt(pk, plaintext):\n",
    "    \n",
    "    #Unpack the key into it's components\n",
    "\n",
    "    key, n = pk\n",
    "\n",
    "    #Convert each letter in the plaintext to numbers based on the character using a^b mod m\n",
    "  \n",
    "    cipher = [(ord(char) ** key) % n for char in plaintext]\n",
    "\n",
    "    #Return the array of bytes\n",
    "\n",
    "    return cipher"
   ]
  },
  {
   "cell_type": "code",
   "execution_count": 9,
   "metadata": {
    "collapsed": true
   },
   "outputs": [],
   "source": [
    "def decrypt(pk, ciphertext):\n",
    "\n",
    "    #Unpack the key into its components\n",
    "\n",
    "    key, n = pk\n",
    "\n",
    "    #Generate the plaintext based on the ciphertext and key using a^b mod m\n",
    "\n",
    "    plain = [chr((char ** key) % n) for char in ciphertext]\n",
    "\n",
    "    #Return the array of bytes as a string\n",
    "\n",
    "    return ''.join(plain)"
   ]
  },
  {
   "cell_type": "code",
   "execution_count": 10,
   "metadata": {
    "collapsed": false
   },
   "outputs": [
    {
     "name": "stdout",
     "output_type": "stream",
     "text": [
      "RSA Encrypter/ Decrypter\n",
      "Enter a prime number (17, 19, 23, etc): 31\n",
      "Enter another prime number (Not one you entered above): 41\n",
      "Generating your public/private keypairs now . . .\n",
      "Your public key is  (59, 1271)  and your private key is  (1139, 1271)\n",
      "Enter a message to encrypt with your private key: 1139, 1271\n",
      "Your encrypted message is: \n",
      "856856324223601993856483735856\n",
      "Decrypting message with public key  (59, 1271)  . . .\n",
      "Your message is:\n",
      "1139, 1271\n"
     ]
    }
   ],
   "source": [
    "if __name__ == '__main__':\n",
    "\n",
    "    '''\n",
    "\n",
    "    Detect if the script is being run directly by the user\n",
    "\n",
    "    '''\n",
    "\n",
    "    print \"RSA Encrypter/ Decrypter\"\n",
    "\n",
    "    p = int(raw_input(\"Enter a prime number (17, 19, 23, etc): \"))\n",
    "\n",
    "    q = int(raw_input(\"Enter another prime number (Not one you entered above): \"))\n",
    "\n",
    "    print \"Generating your public/private keypairs now . . .\"\n",
    "\n",
    "    public, private = generate_keypair(p, q)\n",
    "\n",
    "    print \"Your public key is \", public ,\" and your private key is \", private\n",
    "\n",
    "    message = raw_input(\"Enter a message to encrypt with your private key: \")\n",
    "\n",
    "    encrypted_msg = encrypt(private, message)\n",
    "\n",
    "    print \"Your encrypted message is: \"\n",
    "\n",
    "    print ''.join(map(lambda x: str(x), encrypted_msg))\n",
    "\n",
    "    print \"Decrypting message with public key \", public ,\" . . .\"\n",
    "\n",
    "    print \"Your message is:\"\n",
    "\n",
    "    print decrypt(public, encrypted_msg)"
   ]
  },
  {
   "cell_type": "code",
   "execution_count": null,
   "metadata": {
    "collapsed": true
   },
   "outputs": [],
   "source": []
  }
 ],
 "metadata": {
  "kernelspec": {
   "display_name": "Python 2",
   "language": "python",
   "name": "python2"
  },
  "language_info": {
   "codemirror_mode": {
    "name": "ipython",
    "version": 2
   },
   "file_extension": ".py",
   "mimetype": "text/x-python",
   "name": "python",
   "nbconvert_exporter": "python",
   "pygments_lexer": "ipython2",
   "version": "2.7.13"
  }
 },
 "nbformat": 4,
 "nbformat_minor": 2
}
