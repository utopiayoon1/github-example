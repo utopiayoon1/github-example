{
 "cells": [
  {
   "cell_type": "markdown",
   "metadata": {},
   "source": [
    "## Methodology <a name=\"methodology\"></a>"
   ]
  },
  {
   "cell_type": "markdown",
   "metadata": {},
   "source": [
    "## Foursquare\n",
    "Now that we have our location candidates, let's use Foursquare API to get info on restaurants in each neighborhood.\n",
    "\n",
    "We're interested in venues in 'food' category, but only those that are proper restaurants - coffe shops, pizza places, bakeries etc. are not direct competitors so we don't care about those. So we will include in out list only venues that have 'restaurant' in category name, and we'll make sure to detect and include all the subcategories of specific 'Italian restaurant' category, as we need info on Korean restaurants in the neighborhood."
   ]
  },
  {
   "cell_type": "markdown",
   "metadata": {},
   "source": [
    "## Methodology <a name=\"methodology\"></a>"
   ]
  },
  {
   "cell_type": "markdown",
   "metadata": {},
   "source": [
    "In this project we will direct our efforts on detecting areas of Los Angeles that have low restaurant density, particularly those with low number of Korean restaurants. We will limit our analysis to area 3 miles around city center.\n",
    "\n",
    "In first step we have collected the required **data: location and type (category) of every restaurant within 5 miles from Los Angeles center** (City Hall). We have also **identified Korean restaurants** (according to Foursquare categorization).\n",
    "\n",
    "Second step in our analysis will be calculation and exploration of '**restaurant density**' across different areas of Los Angeles - we will use **heatmaps** to identify a few promising areas close to center with low number of restaurants in general (*and* no Korean restaurants in vicinity) and focus our attention on those areas.\n",
    "\n",
    "In third and final step we will focus on most promising areas and within those create **clusters of locations that meet some basic requirements** established in discussion with stakeholders: we will take into consideration locations with **no more than two restaurants in radius of 250 meters**, and we want locations **without Korean restaurants in radius of 1/2 mile**. We will present map of all such locations but also create clusters (using **k-means clustering**) of those locations to identify general zones / neighborhoods / addresses which should be a starting point for final 'street level' exploration and search for optimal venue location by stakeholders."
   ]
  },
  {
   "cell_type": "code",
   "execution_count": null,
   "metadata": {},
   "outputs": [],
   "source": []
  }
 ],
 "metadata": {
  "kernelspec": {
   "display_name": "Python",
   "language": "python",
   "name": "conda-env-python-py"
  },
  "language_info": {
   "codemirror_mode": {
    "name": "ipython",
    "version": 3
   },
   "file_extension": ".py",
   "mimetype": "text/x-python",
   "name": "python",
   "nbconvert_exporter": "python",
   "pygments_lexer": "ipython3",
   "version": "3.6.7"
  }
 },
 "nbformat": 4,
 "nbformat_minor": 4
}
